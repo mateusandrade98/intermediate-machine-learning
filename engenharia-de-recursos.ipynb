{
 "cells": [
  {
   "cell_type": "markdown",
   "source": [
    "# Feature Engineering"
   ],
   "metadata": {
    "collapsed": false
   }
  },
  {
   "cell_type": "markdown",
   "source": [
    "A engenharia de recursos na ciência de dados é o processo de selecionar, manipular e transformar dados brutos em recursos que podem ser usados no aprendizado supervisionado. Em termos simples, é o ato de converter observações brutas em recursos desejados usando abordagens estatísticas ou de aprendizado de máquina."
   ],
   "metadata": {
    "collapsed": false
   }
  },
  {
   "cell_type": "markdown",
   "source": [
    "## Criação de Funcionalidades\n",
    "\n",
    "A criação de funcionalidades envolve a criação de novas variáveis que serão mais úteis para o nosso modelo. Isso pode ser adicionado ou removido alguns recursos."
   ],
   "metadata": {
    "collapsed": false
   }
  },
  {
   "cell_type": "code",
   "execution_count": 76,
   "outputs": [],
   "source": [
    "# importando as bibliotecas e banco de dados\n",
    "\n",
    "import matplotlib.pyplot as plt\n",
    "import numpy as np\n",
    "import pandas as pd\n",
    "import seaborn as sns\n",
    "from sklearn.model_selection import train_test_split\n",
    "from sklearn.preprocessing import LabelBinarizer, LabelEncoder\n",
    "\n",
    "accidents = pd.read_csv(\"datasets/accidents.csv\")\n",
    "titanic = pd.read_csv(\"datasets/titanic.csv\")"
   ],
   "metadata": {
    "collapsed": false
   }
  },
  {
   "cell_type": "code",
   "execution_count": 77,
   "outputs": [
    {
     "data": {
      "text/plain": "   Severity            StartTime              EndTime   StartLat    StartLng  \\\n0         2  2019-07-22 14:43:06  2019-07-22 16:22:19  34.789009  -82.483383   \n1         2  2019-03-20 16:12:14  2019-03-20 16:41:05  40.998264  -76.650396   \n2         3  2018-12-12 14:19:18  2018-12-12 14:48:56  33.461292 -112.082001   \n3         2  2018-03-09 08:02:11  2018-03-09 08:49:15  42.288445  -87.924911   \n4         2  2020-03-27 05:36:56  2020-03-27 06:36:48  36.229259  -86.594650   \n\n   Distance             Street          City State  Zipcode  ...  Crossing  \\\n0     0.000        Highway 153    Greenville    SC    29611  ...     False   \n1     0.472   Continental Blvd      Danville    PA    17821  ...     False   \n2     0.000             I-10 W       Phoenix    AZ    85003  ...     False   \n3     0.000      Oak Spring Rd  Libertyville    IL    60048  ...     False   \n4     0.000   Saundersville Rd   Old Hickory    TN    37138  ...     False   \n\n   GiveWay  Junction  NoExit  Railway  Roundabout Station   Stop  \\\n0    False     False   False    False       False   False  False   \n1    False     False   False    False       False   False  False   \n2    False     False   False    False       False   False  False   \n3    False     False   False    False       False   False  False   \n4    False     False   False    False       False   False  False   \n\n   TrafficCalming  TrafficSignal  \n0           False          False  \n1           False          False  \n2           False          False  \n3           False          False  \n4           False          False  \n\n[5 rows x 29 columns]",
      "text/html": "<div>\n<style scoped>\n    .dataframe tbody tr th:only-of-type {\n        vertical-align: middle;\n    }\n\n    .dataframe tbody tr th {\n        vertical-align: top;\n    }\n\n    .dataframe thead th {\n        text-align: right;\n    }\n</style>\n<table border=\"1\" class=\"dataframe\">\n  <thead>\n    <tr style=\"text-align: right;\">\n      <th></th>\n      <th>Severity</th>\n      <th>StartTime</th>\n      <th>EndTime</th>\n      <th>StartLat</th>\n      <th>StartLng</th>\n      <th>Distance</th>\n      <th>Street</th>\n      <th>City</th>\n      <th>State</th>\n      <th>Zipcode</th>\n      <th>...</th>\n      <th>Crossing</th>\n      <th>GiveWay</th>\n      <th>Junction</th>\n      <th>NoExit</th>\n      <th>Railway</th>\n      <th>Roundabout</th>\n      <th>Station</th>\n      <th>Stop</th>\n      <th>TrafficCalming</th>\n      <th>TrafficSignal</th>\n    </tr>\n  </thead>\n  <tbody>\n    <tr>\n      <th>0</th>\n      <td>2</td>\n      <td>2019-07-22 14:43:06</td>\n      <td>2019-07-22 16:22:19</td>\n      <td>34.789009</td>\n      <td>-82.483383</td>\n      <td>0.000</td>\n      <td>Highway 153</td>\n      <td>Greenville</td>\n      <td>SC</td>\n      <td>29611</td>\n      <td>...</td>\n      <td>False</td>\n      <td>False</td>\n      <td>False</td>\n      <td>False</td>\n      <td>False</td>\n      <td>False</td>\n      <td>False</td>\n      <td>False</td>\n      <td>False</td>\n      <td>False</td>\n    </tr>\n    <tr>\n      <th>1</th>\n      <td>2</td>\n      <td>2019-03-20 16:12:14</td>\n      <td>2019-03-20 16:41:05</td>\n      <td>40.998264</td>\n      <td>-76.650396</td>\n      <td>0.472</td>\n      <td>Continental Blvd</td>\n      <td>Danville</td>\n      <td>PA</td>\n      <td>17821</td>\n      <td>...</td>\n      <td>False</td>\n      <td>False</td>\n      <td>False</td>\n      <td>False</td>\n      <td>False</td>\n      <td>False</td>\n      <td>False</td>\n      <td>False</td>\n      <td>False</td>\n      <td>False</td>\n    </tr>\n    <tr>\n      <th>2</th>\n      <td>3</td>\n      <td>2018-12-12 14:19:18</td>\n      <td>2018-12-12 14:48:56</td>\n      <td>33.461292</td>\n      <td>-112.082001</td>\n      <td>0.000</td>\n      <td>I-10 W</td>\n      <td>Phoenix</td>\n      <td>AZ</td>\n      <td>85003</td>\n      <td>...</td>\n      <td>False</td>\n      <td>False</td>\n      <td>False</td>\n      <td>False</td>\n      <td>False</td>\n      <td>False</td>\n      <td>False</td>\n      <td>False</td>\n      <td>False</td>\n      <td>False</td>\n    </tr>\n    <tr>\n      <th>3</th>\n      <td>2</td>\n      <td>2018-03-09 08:02:11</td>\n      <td>2018-03-09 08:49:15</td>\n      <td>42.288445</td>\n      <td>-87.924911</td>\n      <td>0.000</td>\n      <td>Oak Spring Rd</td>\n      <td>Libertyville</td>\n      <td>IL</td>\n      <td>60048</td>\n      <td>...</td>\n      <td>False</td>\n      <td>False</td>\n      <td>False</td>\n      <td>False</td>\n      <td>False</td>\n      <td>False</td>\n      <td>False</td>\n      <td>False</td>\n      <td>False</td>\n      <td>False</td>\n    </tr>\n    <tr>\n      <th>4</th>\n      <td>2</td>\n      <td>2020-03-27 05:36:56</td>\n      <td>2020-03-27 06:36:48</td>\n      <td>36.229259</td>\n      <td>-86.594650</td>\n      <td>0.000</td>\n      <td>Saundersville Rd</td>\n      <td>Old Hickory</td>\n      <td>TN</td>\n      <td>37138</td>\n      <td>...</td>\n      <td>False</td>\n      <td>False</td>\n      <td>False</td>\n      <td>False</td>\n      <td>False</td>\n      <td>False</td>\n      <td>False</td>\n      <td>False</td>\n      <td>False</td>\n      <td>False</td>\n    </tr>\n  </tbody>\n</table>\n<p>5 rows × 29 columns</p>\n</div>"
     },
     "execution_count": 77,
     "metadata": {},
     "output_type": "execute_result"
    }
   ],
   "source": [
    "accidents.head()"
   ],
   "metadata": {
    "collapsed": false
   }
  },
  {
   "cell_type": "markdown",
   "source": [
    "Use o método *.describe* para obter as estatísticas resumidas, bem como para ver o contador de dados não nulos."
   ],
   "metadata": {
    "collapsed": false
   }
  },
  {
   "cell_type": "code",
   "execution_count": 78,
   "outputs": [
    {
     "data": {
      "text/plain": "            Severity       StartLat       StartLng       Distance  \\\ncount  100000.000000  100000.000000  100000.000000  100000.000000   \nmean        2.338270      36.514226     -95.918245       0.288088   \nstd         0.551132       4.895905      17.357249       1.653184   \nmin         1.000000      24.569300    -124.474380       0.000000   \n25%         2.000000      33.622412    -117.488407       0.000000   \n50%         2.000000      35.840891     -91.074997       0.000000   \n75%         3.000000      40.300162     -80.995310       0.010000   \nmax         4.000000      48.964230     -68.368760     176.279999   \n\n             Zipcode    Temperature       Humidity       Pressure  \\\ncount  100000.000000  100000.000000  100000.000000  100000.000000   \nmean    57969.864520      61.727966      64.828860      29.709953   \nstd     30456.072213      18.970448      23.154256       1.324756   \nmin      1001.000000     -27.900000       0.000000       0.000000   \n25%     29704.000000      50.000000      48.000000      29.730000   \n50%     60148.000000      64.000000      67.000000      29.950000   \n75%     90265.000000      75.900000      84.000000      30.090000   \nmax     99338.000000     140.000000     100.000000      30.920000   \n\n          Visibility      WindSpeed  Precipitation  \ncount  100000.000000  100000.000000  100000.000000  \nmean        9.100749       7.302313       0.006801  \nstd         2.914160       6.208804       0.131558  \nmin         0.000000       0.000000       0.000000  \n25%        10.000000       3.500000       0.000000  \n50%        10.000000       6.900000       0.000000  \n75%        10.000000      10.400000       0.000000  \nmax        80.000000     822.800000      24.000000  ",
      "text/html": "<div>\n<style scoped>\n    .dataframe tbody tr th:only-of-type {\n        vertical-align: middle;\n    }\n\n    .dataframe tbody tr th {\n        vertical-align: top;\n    }\n\n    .dataframe thead th {\n        text-align: right;\n    }\n</style>\n<table border=\"1\" class=\"dataframe\">\n  <thead>\n    <tr style=\"text-align: right;\">\n      <th></th>\n      <th>Severity</th>\n      <th>StartLat</th>\n      <th>StartLng</th>\n      <th>Distance</th>\n      <th>Zipcode</th>\n      <th>Temperature</th>\n      <th>Humidity</th>\n      <th>Pressure</th>\n      <th>Visibility</th>\n      <th>WindSpeed</th>\n      <th>Precipitation</th>\n    </tr>\n  </thead>\n  <tbody>\n    <tr>\n      <th>count</th>\n      <td>100000.000000</td>\n      <td>100000.000000</td>\n      <td>100000.000000</td>\n      <td>100000.000000</td>\n      <td>100000.000000</td>\n      <td>100000.000000</td>\n      <td>100000.000000</td>\n      <td>100000.000000</td>\n      <td>100000.000000</td>\n      <td>100000.000000</td>\n      <td>100000.000000</td>\n    </tr>\n    <tr>\n      <th>mean</th>\n      <td>2.338270</td>\n      <td>36.514226</td>\n      <td>-95.918245</td>\n      <td>0.288088</td>\n      <td>57969.864520</td>\n      <td>61.727966</td>\n      <td>64.828860</td>\n      <td>29.709953</td>\n      <td>9.100749</td>\n      <td>7.302313</td>\n      <td>0.006801</td>\n    </tr>\n    <tr>\n      <th>std</th>\n      <td>0.551132</td>\n      <td>4.895905</td>\n      <td>17.357249</td>\n      <td>1.653184</td>\n      <td>30456.072213</td>\n      <td>18.970448</td>\n      <td>23.154256</td>\n      <td>1.324756</td>\n      <td>2.914160</td>\n      <td>6.208804</td>\n      <td>0.131558</td>\n    </tr>\n    <tr>\n      <th>min</th>\n      <td>1.000000</td>\n      <td>24.569300</td>\n      <td>-124.474380</td>\n      <td>0.000000</td>\n      <td>1001.000000</td>\n      <td>-27.900000</td>\n      <td>0.000000</td>\n      <td>0.000000</td>\n      <td>0.000000</td>\n      <td>0.000000</td>\n      <td>0.000000</td>\n    </tr>\n    <tr>\n      <th>25%</th>\n      <td>2.000000</td>\n      <td>33.622412</td>\n      <td>-117.488407</td>\n      <td>0.000000</td>\n      <td>29704.000000</td>\n      <td>50.000000</td>\n      <td>48.000000</td>\n      <td>29.730000</td>\n      <td>10.000000</td>\n      <td>3.500000</td>\n      <td>0.000000</td>\n    </tr>\n    <tr>\n      <th>50%</th>\n      <td>2.000000</td>\n      <td>35.840891</td>\n      <td>-91.074997</td>\n      <td>0.000000</td>\n      <td>60148.000000</td>\n      <td>64.000000</td>\n      <td>67.000000</td>\n      <td>29.950000</td>\n      <td>10.000000</td>\n      <td>6.900000</td>\n      <td>0.000000</td>\n    </tr>\n    <tr>\n      <th>75%</th>\n      <td>3.000000</td>\n      <td>40.300162</td>\n      <td>-80.995310</td>\n      <td>0.010000</td>\n      <td>90265.000000</td>\n      <td>75.900000</td>\n      <td>84.000000</td>\n      <td>30.090000</td>\n      <td>10.000000</td>\n      <td>10.400000</td>\n      <td>0.000000</td>\n    </tr>\n    <tr>\n      <th>max</th>\n      <td>4.000000</td>\n      <td>48.964230</td>\n      <td>-68.368760</td>\n      <td>176.279999</td>\n      <td>99338.000000</td>\n      <td>140.000000</td>\n      <td>100.000000</td>\n      <td>30.920000</td>\n      <td>80.000000</td>\n      <td>822.800000</td>\n      <td>24.000000</td>\n    </tr>\n  </tbody>\n</table>\n</div>"
     },
     "execution_count": 78,
     "metadata": {},
     "output_type": "execute_result"
    }
   ],
   "source": [
    "accidents.describe()"
   ],
   "metadata": {
    "collapsed": false
   }
  },
  {
   "cell_type": "markdown",
   "source": [
    "Estudando o conjunto de dados percebi que conseguimos criar uma nova feature usando 2 variáveis: *Stop* e *TrafficSignal*, criaremos um condicional, se o sinal estiver vermelho e o carro não estava parado, sabemos que o motorista estava cometendo uma infração grave."
   ],
   "metadata": {
    "collapsed": false
   }
  },
  {
   "cell_type": "code",
   "execution_count": 79,
   "outputs": [],
   "source": [
    "# transforma os valores em inteiros\n",
    "accidents[['Stop', 'TrafficSignal']] = accidents[['Stop', 'TrafficSignal']].astype(int)"
   ],
   "metadata": {
    "collapsed": false
   }
  },
  {
   "cell_type": "code",
   "execution_count": 80,
   "outputs": [],
   "source": [
    "# faz uma condicional onde os veículos em movimento enquanto o sinal está fechado\n",
    "accidents['Violation'] = (accidents.Stop == 0) & (accidents.TrafficSignal == 1)"
   ],
   "metadata": {
    "collapsed": false
   }
  },
  {
   "cell_type": "code",
   "execution_count": 81,
   "outputs": [
    {
     "data": {
      "text/plain": "0    False\n1    False\n2    False\n3    False\n4    False\nName: Violation, dtype: bool"
     },
     "execution_count": 81,
     "metadata": {},
     "output_type": "execute_result"
    }
   ],
   "source": [
    "accidents.Violation.head()"
   ],
   "metadata": {
    "collapsed": false
   }
  },
  {
   "cell_type": "markdown",
   "source": [
    "**LEMBRANDO QUE O EXEMPLO ACIMA É MERAMENTE EXPLICATIVO!**\n",
    "\n",
    "TALVEZ *TrafficSignal*, não seja sinal fechado. mas, usei como se fosse para o exemplo."
   ],
   "metadata": {
    "collapsed": false
   }
  },
  {
   "cell_type": "code",
   "execution_count": 104,
   "outputs": [
    {
     "name": "stderr",
     "output_type": "stream",
     "text": [
      "<__array_function__ internals>:180: RuntimeWarning: Converting input from bool to <class 'numpy.uint8'> for compatibility.\n"
     ]
    },
    {
     "data": {
      "text/plain": "<AxesSubplot:xlabel='Violation', ylabel='Count'>"
     },
     "execution_count": 104,
     "metadata": {},
     "output_type": "execute_result"
    },
    {
     "data": {
      "text/plain": "<Figure size 640x480 with 1 Axes>",
      "image/png": "[encoded data removed]"
     },
     "metadata": {},
     "output_type": "display_data"
    }
   ],
   "source": [
    "sns.histplot(accidents.Violation)"
   ],
   "metadata": {
    "collapsed": false
   }
  },
  {
   "cell_type": "markdown",
   "source": [
    "# Analises dos dados\n",
    "\n",
    "É conveniente para verificar se uma coluna contém dados ausentes. Também é uma ba ideia conferir os valores mínimo e máximo para ver se há valores discrepantes."
   ],
   "metadata": {
    "collapsed": false
   }
  },
  {
   "cell_type": "code",
   "execution_count": 83,
   "outputs": [
    {
     "data": {
      "text/plain": "PassengerId      0\nSurvived         0\nPclass           0\nName             0\nSex              0\nAge             86\nSibSp            0\nParch            0\nTicket           0\nFare             1\nCabin          327\nEmbarked         0\ndtype: int64"
     },
     "execution_count": 83,
     "metadata": {},
     "output_type": "execute_result"
    }
   ],
   "source": [
    "# soma os valores não preenchidos.\n",
    "titanic.isnull().sum()"
   ],
   "metadata": {
    "collapsed": false
   }
  },
  {
   "cell_type": "code",
   "execution_count": 84,
   "outputs": [
    {
     "data": {
      "text/plain": "<AxesSubplot:>"
     },
     "execution_count": 84,
     "metadata": {},
     "output_type": "execute_result"
    },
    {
     "data": {
      "text/plain": "<Figure size 640x480 with 1 Axes>",
      "image/png": "[encoded data removed]"
     },
     "metadata": {},
     "output_type": "display_data"
    }
   ],
   "source": [
    "# boxplot\n",
    "sns.boxplot(titanic)"
   ],
   "metadata": {
    "collapsed": false
   }
  },
  {
   "cell_type": "code",
   "execution_count": 85,
   "outputs": [
    {
     "data": {
      "text/plain": "<AxesSubplot:xlabel='Age', ylabel='Count'>"
     },
     "execution_count": 85,
     "metadata": {},
     "output_type": "execute_result"
    },
    {
     "data": {
      "text/plain": "<Figure size 640x480 with 1 Axes>",
      "image/png": "[encoded data removed]"
     },
     "metadata": {},
     "output_type": "display_data"
    }
   ],
   "source": [
    "# hist Age\n",
    "sns.histplot(titanic.Age)"
   ],
   "metadata": {
    "collapsed": false
   }
  },
  {
   "cell_type": "markdown",
   "source": [
    "Mesmo havendo um desvio padrão da coluna **Age**, os dados estão sem inconsistência\n",
    "\n",
    "Com o range de 10 anos até 75"
   ],
   "metadata": {
    "collapsed": false
   }
  },
  {
   "cell_type": "markdown",
   "source": [
    "## Imputação de dados\n",
    "\n",
    "A coluna idade tem valores ausentes. Devemos imputar uma idade a partir dos valores numéricos. Queremos imputar dados apenas no conjunto de treinamento, e então usar esse imputer para preencher os dados no conjunto de testes. Caso contrário, causaremos vazamentos de informações."
   ],
   "metadata": {
    "collapsed": false
   }
  },
  {
   "cell_type": "code",
   "execution_count": 86,
   "outputs": [],
   "source": [
    "y_titanic = titanic.Survived\n",
    "titanic.drop('Survived', axis=1, inplace=True)\n",
    "titanic.drop('Name', axis=1, inplace=True)\n",
    "\n",
    "labelEncoder = LabelEncoder()\n",
    "labelBinary = LabelBinarizer()\n",
    "\n",
    "titanic.Sex = labelBinary.fit_transform(titanic.Sex)\n",
    "titanic.Ticket = labelEncoder.fit_transform(y=titanic.Ticket)\n",
    "titanic.Cabin = labelEncoder.fit_transform(y=titanic.Cabin)\n",
    "titanic.Embarked = labelEncoder.fit_transform(y=titanic.Embarked)\n",
    "\n",
    "X_train, X_test, y_train, y_test = train_test_split(titanic, y_titanic, test_size=0.3, random_state=42)"
   ],
   "metadata": {
    "collapsed": false
   }
  },
  {
   "cell_type": "code",
   "execution_count": 87,
   "outputs": [
    {
     "data": {
      "text/plain": "     PassengerId  Pclass  Sex   Age  SibSp  Parch  Ticket      Fare  Cabin  \\\n118         1010       1    1  36.0      0      0      33   75.2417     38   \n271         1163       3    1   NaN      0      0     235    7.7500     76   \n114         1006       1    0  63.0      1      0     303  221.7792     37   \n311         1203       3    1  22.0      0      0     101    7.2250     76   \n131         1023       1    1  53.0      0      0      17   28.5000     34   \n\n     Embarked  \n118         0  \n271         1  \n114         2  \n311         0  \n131         0  ",
      "text/html": "<div>\n<style scoped>\n    .dataframe tbody tr th:only-of-type {\n        vertical-align: middle;\n    }\n\n    .dataframe tbody tr th {\n        vertical-align: top;\n    }\n\n    .dataframe thead th {\n        text-align: right;\n    }\n</style>\n<table border=\"1\" class=\"dataframe\">\n  <thead>\n    <tr style=\"text-align: right;\">\n      <th></th>\n      <th>PassengerId</th>\n      <th>Pclass</th>\n      <th>Sex</th>\n      <th>Age</th>\n      <th>SibSp</th>\n      <th>Parch</th>\n      <th>Ticket</th>\n      <th>Fare</th>\n      <th>Cabin</th>\n      <th>Embarked</th>\n    </tr>\n  </thead>\n  <tbody>\n    <tr>\n      <th>118</th>\n      <td>1010</td>\n      <td>1</td>\n      <td>1</td>\n      <td>36.0</td>\n      <td>0</td>\n      <td>0</td>\n      <td>33</td>\n      <td>75.2417</td>\n      <td>38</td>\n      <td>0</td>\n    </tr>\n    <tr>\n      <th>271</th>\n      <td>1163</td>\n      <td>3</td>\n      <td>1</td>\n      <td>NaN</td>\n      <td>0</td>\n      <td>0</td>\n      <td>235</td>\n      <td>7.7500</td>\n      <td>76</td>\n      <td>1</td>\n    </tr>\n    <tr>\n      <th>114</th>\n      <td>1006</td>\n      <td>1</td>\n      <td>0</td>\n      <td>63.0</td>\n      <td>1</td>\n      <td>0</td>\n      <td>303</td>\n      <td>221.7792</td>\n      <td>37</td>\n      <td>2</td>\n    </tr>\n    <tr>\n      <th>311</th>\n      <td>1203</td>\n      <td>3</td>\n      <td>1</td>\n      <td>22.0</td>\n      <td>0</td>\n      <td>0</td>\n      <td>101</td>\n      <td>7.2250</td>\n      <td>76</td>\n      <td>0</td>\n    </tr>\n    <tr>\n      <th>131</th>\n      <td>1023</td>\n      <td>1</td>\n      <td>1</td>\n      <td>53.0</td>\n      <td>0</td>\n      <td>0</td>\n      <td>17</td>\n      <td>28.5000</td>\n      <td>34</td>\n      <td>0</td>\n    </tr>\n  </tbody>\n</table>\n</div>"
     },
     "execution_count": 87,
     "metadata": {},
     "output_type": "execute_result"
    }
   ],
   "source": [
    "X_train.head()"
   ],
   "metadata": {
    "collapsed": false
   }
  },
  {
   "cell_type": "code",
   "execution_count": 88,
   "outputs": [],
   "source": [
    "from sklearn import impute\n",
    "from sklearn.experimental import enable_iterative_imputer"
   ],
   "metadata": {
    "collapsed": false
   }
  },
  {
   "cell_type": "code",
   "execution_count": 89,
   "outputs": [],
   "source": [
    "imputer = impute.IterativeImputer()\n",
    "imputed = imputer.fit_transform(X_train[['Age', 'Cabin']])"
   ],
   "metadata": {
    "collapsed": false
   }
  },
  {
   "cell_type": "code",
   "execution_count": 90,
   "outputs": [],
   "source": [
    "X_train.loc[:, ['Age', 'Cabin']] = imputed\n",
    "imputed = imputer.transform(X_test[['Age', 'Cabin']])\n",
    "X_test.loc[:, ['Age', 'Cabin']] = imputed"
   ],
   "metadata": {
    "collapsed": false
   }
  },
  {
   "cell_type": "markdown",
   "source": [
    "Também é possível fazer a imputação usando as medianas... veja o exemplo:"
   ],
   "metadata": {
    "collapsed": false
   }
  },
  {
   "cell_type": "code",
   "execution_count": 91,
   "outputs": [],
   "source": [
    "meds = X_train[['Age', 'Cabin']].mean()"
   ],
   "metadata": {
    "collapsed": false
   }
  },
  {
   "cell_type": "code",
   "execution_count": 92,
   "outputs": [
    {
     "data": {
      "text/plain": "Age      30.384192\nCabin    66.719178\ndtype: float64"
     },
     "execution_count": 92,
     "metadata": {},
     "output_type": "execute_result"
    }
   ],
   "source": [
    "meds"
   ],
   "metadata": {
    "collapsed": false
   }
  },
  {
   "cell_type": "code",
   "execution_count": 93,
   "outputs": [],
   "source": [
    "X_train.Age = X_train.Age.fillna(meds.Age)\n",
    "X_train.Cabin = X_train.Cabin.fillna(meds.Cabin)\n",
    "X_test.Age = X_test.Age.fillna(meds.Age)\n",
    "X_test.Cabin = X_test.Cabin.fillna(meds.Cabin)"
   ],
   "metadata": {
    "collapsed": false
   }
  },
  {
   "cell_type": "markdown",
   "source": [
    "# Normalize os dados\n",
    "\n",
    "Normalizar ou pré-processar os dados ajudarão muitos modelos a terem um melhor desempenho depois, particularmente, para aqueles que dependam de uma métrica de distância para determinar a semelhança.\n",
    "\n",
    "Vamos padronizar os dados para o pré-processamento. Padronizar significa traduzir os dados de modo que tenham um valor de média igual a zero e um desvio-padrão igual a um."
   ],
   "metadata": {
    "collapsed": false
   }
  },
  {
   "cell_type": "code",
   "execution_count": 94,
   "outputs": [],
   "source": [
    "from sklearn.preprocessing import StandardScaler\n",
    "scalar = StandardScaler()"
   ],
   "metadata": {
    "collapsed": false
   }
  },
  {
   "cell_type": "code",
   "execution_count": 95,
   "outputs": [
    {
     "data": {
      "text/plain": "     PassengerId  Pclass  Sex        Age  SibSp  Parch  Ticket      Fare  \\\n118         1010       1    1  36.000000      0      0      33   75.2417   \n271         1163       3    1  27.735372      0      0     235    7.7500   \n114         1006       1    0  63.000000      1      0     303  221.7792   \n311         1203       3    1  22.000000      0      0     101    7.2250   \n131         1023       1    1  53.000000      0      0      17   28.5000   \n\n     Cabin  Embarked  \n118   38.0         0  \n271   76.0         1  \n114   37.0         2  \n311   76.0         0  \n131   34.0         0  ",
      "text/html": "<div>\n<style scoped>\n    .dataframe tbody tr th:only-of-type {\n        vertical-align: middle;\n    }\n\n    .dataframe tbody tr th {\n        vertical-align: top;\n    }\n\n    .dataframe thead th {\n        text-align: right;\n    }\n</style>\n<table border=\"1\" class=\"dataframe\">\n  <thead>\n    <tr style=\"text-align: right;\">\n      <th></th>\n      <th>PassengerId</th>\n      <th>Pclass</th>\n      <th>Sex</th>\n      <th>Age</th>\n      <th>SibSp</th>\n      <th>Parch</th>\n      <th>Ticket</th>\n      <th>Fare</th>\n      <th>Cabin</th>\n      <th>Embarked</th>\n    </tr>\n  </thead>\n  <tbody>\n    <tr>\n      <th>118</th>\n      <td>1010</td>\n      <td>1</td>\n      <td>1</td>\n      <td>36.000000</td>\n      <td>0</td>\n      <td>0</td>\n      <td>33</td>\n      <td>75.2417</td>\n      <td>38.0</td>\n      <td>0</td>\n    </tr>\n    <tr>\n      <th>271</th>\n      <td>1163</td>\n      <td>3</td>\n      <td>1</td>\n      <td>27.735372</td>\n      <td>0</td>\n      <td>0</td>\n      <td>235</td>\n      <td>7.7500</td>\n      <td>76.0</td>\n      <td>1</td>\n    </tr>\n    <tr>\n      <th>114</th>\n      <td>1006</td>\n      <td>1</td>\n      <td>0</td>\n      <td>63.000000</td>\n      <td>1</td>\n      <td>0</td>\n      <td>303</td>\n      <td>221.7792</td>\n      <td>37.0</td>\n      <td>2</td>\n    </tr>\n    <tr>\n      <th>311</th>\n      <td>1203</td>\n      <td>3</td>\n      <td>1</td>\n      <td>22.000000</td>\n      <td>0</td>\n      <td>0</td>\n      <td>101</td>\n      <td>7.2250</td>\n      <td>76.0</td>\n      <td>0</td>\n    </tr>\n    <tr>\n      <th>131</th>\n      <td>1023</td>\n      <td>1</td>\n      <td>1</td>\n      <td>53.000000</td>\n      <td>0</td>\n      <td>0</td>\n      <td>17</td>\n      <td>28.5000</td>\n      <td>34.0</td>\n      <td>0</td>\n    </tr>\n  </tbody>\n</table>\n</div>"
     },
     "execution_count": 95,
     "metadata": {},
     "output_type": "execute_result"
    }
   ],
   "source": [
    "X_train.head()"
   ],
   "metadata": {
    "collapsed": false
   }
  },
  {
   "cell_type": "code",
   "execution_count": 96,
   "outputs": [
    {
     "data": {
      "text/plain": "PassengerId    0\nPclass         0\nSex            0\nAge            0\nSibSp          0\nParch          0\nTicket         0\nFare           1\nCabin          0\nEmbarked       0\ndtype: int64"
     },
     "execution_count": 96,
     "metadata": {},
     "output_type": "execute_result"
    }
   ],
   "source": [
    "X_train.isnull().sum()"
   ],
   "metadata": {
    "collapsed": false
   }
  },
  {
   "cell_type": "code",
   "execution_count": 97,
   "outputs": [],
   "source": [
    "X_train.dropna(axis=0, inplace=True)"
   ],
   "metadata": {
    "collapsed": false
   }
  },
  {
   "cell_type": "code",
   "execution_count": 98,
   "outputs": [],
   "source": [
    "columns = titanic.columns\n",
    "\n",
    "X_train = scalar.fit_transform(X_train)\n",
    "X_test = scalar.transform(X_test)\n",
    "\n",
    "X_train = pd.DataFrame(X_train, columns=columns)\n",
    "X_test = pd.DataFrame(X_test, columns=columns)"
   ],
   "metadata": {
    "collapsed": false
   }
  },
  {
   "cell_type": "code",
   "execution_count": 99,
   "outputs": [
    {
     "data": {
      "text/plain": "   PassengerId    Pclass       Sex       Age     SibSp     Parch    Ticket  \\\n0    -0.826043 -1.472373  0.785281  0.436193 -0.503780 -0.435986 -1.353882   \n1     0.517835  0.875356  0.785281 -0.194124 -0.503780 -0.435986  0.518768   \n2    -0.861177 -1.472373 -1.273429  2.495400  0.574161 -0.435986  1.149165   \n3     0.869176  0.875356  0.785281 -0.631544 -0.503780 -0.435986 -0.723485   \n4    -0.711857 -1.472373  0.785281  1.732731 -0.503780 -0.435986 -1.502210   \n\n       Fare     Cabin  Embarked  \n0  0.599094 -1.471583 -1.587502  \n1 -0.509368  0.477718 -0.432594  \n2  3.005778 -1.522881  0.722313  \n3 -0.517990  0.477718 -1.587502  \n4 -0.168577 -1.676773 -1.587502  ",
      "text/html": "<div>\n<style scoped>\n    .dataframe tbody tr th:only-of-type {\n        vertical-align: middle;\n    }\n\n    .dataframe tbody tr th {\n        vertical-align: top;\n    }\n\n    .dataframe thead th {\n        text-align: right;\n    }\n</style>\n<table border=\"1\" class=\"dataframe\">\n  <thead>\n    <tr style=\"text-align: right;\">\n      <th></th>\n      <th>PassengerId</th>\n      <th>Pclass</th>\n      <th>Sex</th>\n      <th>Age</th>\n      <th>SibSp</th>\n      <th>Parch</th>\n      <th>Ticket</th>\n      <th>Fare</th>\n      <th>Cabin</th>\n      <th>Embarked</th>\n    </tr>\n  </thead>\n  <tbody>\n    <tr>\n      <th>0</th>\n      <td>-0.826043</td>\n      <td>-1.472373</td>\n      <td>0.785281</td>\n      <td>0.436193</td>\n      <td>-0.503780</td>\n      <td>-0.435986</td>\n      <td>-1.353882</td>\n      <td>0.599094</td>\n      <td>-1.471583</td>\n      <td>-1.587502</td>\n    </tr>\n    <tr>\n      <th>1</th>\n      <td>0.517835</td>\n      <td>0.875356</td>\n      <td>0.785281</td>\n      <td>-0.194124</td>\n      <td>-0.503780</td>\n      <td>-0.435986</td>\n      <td>0.518768</td>\n      <td>-0.509368</td>\n      <td>0.477718</td>\n      <td>-0.432594</td>\n    </tr>\n    <tr>\n      <th>2</th>\n      <td>-0.861177</td>\n      <td>-1.472373</td>\n      <td>-1.273429</td>\n      <td>2.495400</td>\n      <td>0.574161</td>\n      <td>-0.435986</td>\n      <td>1.149165</td>\n      <td>3.005778</td>\n      <td>-1.522881</td>\n      <td>0.722313</td>\n    </tr>\n    <tr>\n      <th>3</th>\n      <td>0.869176</td>\n      <td>0.875356</td>\n      <td>0.785281</td>\n      <td>-0.631544</td>\n      <td>-0.503780</td>\n      <td>-0.435986</td>\n      <td>-0.723485</td>\n      <td>-0.517990</td>\n      <td>0.477718</td>\n      <td>-1.587502</td>\n    </tr>\n    <tr>\n      <th>4</th>\n      <td>-0.711857</td>\n      <td>-1.472373</td>\n      <td>0.785281</td>\n      <td>1.732731</td>\n      <td>-0.503780</td>\n      <td>-0.435986</td>\n      <td>-1.502210</td>\n      <td>-0.168577</td>\n      <td>-1.676773</td>\n      <td>-1.587502</td>\n    </tr>\n  </tbody>\n</table>\n</div>"
     },
     "execution_count": 99,
     "metadata": {},
     "output_type": "execute_result"
    }
   ],
   "source": [
    "X_train.head()"
   ],
   "metadata": {
    "collapsed": false
   }
  },
  {
   "cell_type": "code",
   "execution_count": 100,
   "outputs": [
    {
     "data": {
      "text/plain": "   PassengerId    Pclass       Sex       Age    SibSp     Parch    Ticket  \\\n0     0.957011  0.875356  0.785281 -0.402743 -0.50378 -0.435986 -0.760567   \n1     0.983362 -1.472373 -1.273429  0.664994 -0.50378 -0.435986 -0.964519   \n2     1.545507  0.875356  0.785281 -0.707810 -0.50378 -0.435986  0.426063   \n3    -1.370621  0.875356  0.785281  0.359926 -0.50378 -0.435986  0.175758   \n4    -0.518620  0.875356 -1.273429  0.436193 -0.50378  1.661070  0.324087   \n\n       Fare     Cabin  Embarked  \n0 -0.517921  0.169934 -1.587502  \n1  2.834287  0.477718  0.722313  \n2 -0.509368  0.477718 -0.432594  \n3 -0.506973  0.477718  0.722313  \n4 -0.436557  0.477718  0.722313  ",
      "text/html": "<div>\n<style scoped>\n    .dataframe tbody tr th:only-of-type {\n        vertical-align: middle;\n    }\n\n    .dataframe tbody tr th {\n        vertical-align: top;\n    }\n\n    .dataframe thead th {\n        text-align: right;\n    }\n</style>\n<table border=\"1\" class=\"dataframe\">\n  <thead>\n    <tr style=\"text-align: right;\">\n      <th></th>\n      <th>PassengerId</th>\n      <th>Pclass</th>\n      <th>Sex</th>\n      <th>Age</th>\n      <th>SibSp</th>\n      <th>Parch</th>\n      <th>Ticket</th>\n      <th>Fare</th>\n      <th>Cabin</th>\n      <th>Embarked</th>\n    </tr>\n  </thead>\n  <tbody>\n    <tr>\n      <th>0</th>\n      <td>0.957011</td>\n      <td>0.875356</td>\n      <td>0.785281</td>\n      <td>-0.402743</td>\n      <td>-0.50378</td>\n      <td>-0.435986</td>\n      <td>-0.760567</td>\n      <td>-0.517921</td>\n      <td>0.169934</td>\n      <td>-1.587502</td>\n    </tr>\n    <tr>\n      <th>1</th>\n      <td>0.983362</td>\n      <td>-1.472373</td>\n      <td>-1.273429</td>\n      <td>0.664994</td>\n      <td>-0.50378</td>\n      <td>-0.435986</td>\n      <td>-0.964519</td>\n      <td>2.834287</td>\n      <td>0.477718</td>\n      <td>0.722313</td>\n    </tr>\n    <tr>\n      <th>2</th>\n      <td>1.545507</td>\n      <td>0.875356</td>\n      <td>0.785281</td>\n      <td>-0.707810</td>\n      <td>-0.50378</td>\n      <td>-0.435986</td>\n      <td>0.426063</td>\n      <td>-0.509368</td>\n      <td>0.477718</td>\n      <td>-0.432594</td>\n    </tr>\n    <tr>\n      <th>3</th>\n      <td>-1.370621</td>\n      <td>0.875356</td>\n      <td>0.785281</td>\n      <td>0.359926</td>\n      <td>-0.50378</td>\n      <td>-0.435986</td>\n      <td>0.175758</td>\n      <td>-0.506973</td>\n      <td>0.477718</td>\n      <td>0.722313</td>\n    </tr>\n    <tr>\n      <th>4</th>\n      <td>-0.518620</td>\n      <td>0.875356</td>\n      <td>-1.273429</td>\n      <td>0.436193</td>\n      <td>-0.50378</td>\n      <td>1.661070</td>\n      <td>0.324087</td>\n      <td>-0.436557</td>\n      <td>0.477718</td>\n      <td>0.722313</td>\n    </tr>\n  </tbody>\n</table>\n</div>"
     },
     "execution_count": 100,
     "metadata": {},
     "output_type": "execute_result"
    }
   ],
   "source": [
    "X_test.head()"
   ],
   "metadata": {
    "collapsed": false
   }
  },
  {
   "cell_type": "code",
   "execution_count": 101,
   "outputs": [],
   "source": [],
   "metadata": {
    "collapsed": false
   }
  }
 ],
 "metadata": {
  "kernelspec": {
   "display_name": "Python 3",
   "language": "python",
   "name": "python3"
  },
  "language_info": {
   "codemirror_mode": {
    "name": "ipython",
    "version": 2
   },
   "file_extension": ".py",
   "mimetype": "text/x-python",
   "name": "python",
   "nbconvert_exporter": "python",
   "pygments_lexer": "ipython2",
   "version": "2.7.6"
  }
 },
 "nbformat": 4,
 "nbformat_minor": 0
}
