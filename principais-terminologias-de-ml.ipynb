{
 "cells": [
  {
   "cell_type": "markdown",
   "source": [
    "# Principais terminologias de ML"
   ],
   "metadata": {
    "collapsed": false
   }
  },
  {
   "cell_type": "markdown",
   "source": [
    "## Identificadores (label)\n",
    "\n",
    "Um **marcador** é o que estamos prevendo, a variável *y* na regressão linear simples. O rótulo pode ser o preço futuro de trigo, a categoria de animal\n",
    "mostrado em uma imagem, o significado de um clipe de áudio ou qualquer outro item."
   ],
   "metadata": {
    "collapsed": false
   }
  },
  {
   "cell_type": "markdown",
   "source": [
    "## Recursos (features)\n",
    "\n",
    "Um **recurso** é uma variável de entrada: a variável *x* na regressão linear simples. Um projeto de machine learning simples pode usar um único recurso, enquanto um projeto de machine learning mais sofisticado pode usar milhões de atributos, especificados como:\n",
    "\n",
    "***x1, x2,...xn***"
   ],
   "metadata": {
    "collapsed": false
   }
  },
  {
   "cell_type": "markdown",
   "source": [
    "# Modelos\n",
    "\n",
    "Um modelo define a relação entre os atributos e o rótulo. Por exemplo, um modelo de detecção de “spam” pode associar determinados recursos a \"spam\".\n",
    "Vamos destacar duas fases da vida de um modelo:\n",
    "\n",
    "- **Treinamento** significa criar ou **aprender** o modelo. Ou seja, você mostra exemplos do modelo rotulado e permite que o modelo aprenda gradativamente as relações entre os atributos e o rótulo.\n",
    "- **Inferência** significa aplicar o modelo treinado a exemplos não rotulados. Ou seja, use o modelo treinado para fazer previsões úteis (*y'*). Por exemplo, durante a inferência, é possível prever *preço de um ativo* para novos exemplos não rotulados."
   ],
   "metadata": {
    "collapsed": false
   }
  },
  {
   "cell_type": "markdown",
   "source": [
    "# Regressão x Classificação\n",
    "\n",
    "Um modelo de **regressão** prevê valores contínuos. Por exemplo, os modelos de regressão fazer previsões que respondem às perguntas como as seguintes:\n",
    "\n",
    "- Qual é o valor de uma casa no Brasil?\n",
    "- Qual é a probabilidade de um usuário clicar nesse anúncio?\n",
    "\n",
    "Um modelo de **classificação** prevê valores discretos. Por exemplo, os modelos de classificação fazem previsões que respondem às preguntas como as seguintes:\n",
    "\n",
    "- Uma determinada mensagem de e-mail é \"spam\" ou não é \"spam\"?\n",
    "- Esta é uma imagem de um cachorro, um gato ou um hamster?"
   ],
   "metadata": {
    "collapsed": false
   }
  },
  {
   "cell_type": "code",
   "execution_count": null,
   "outputs": [],
   "source": [],
   "metadata": {
    "collapsed": false
   }
  }
 ],
 "metadata": {
  "kernelspec": {
   "display_name": "Python 3",
   "language": "python",
   "name": "python3"
  },
  "language_info": {
   "codemirror_mode": {
    "name": "ipython",
    "version": 2
   },
   "file_extension": ".py",
   "mimetype": "text/x-python",
   "name": "python",
   "nbconvert_exporter": "python",
   "pygments_lexer": "ipython2",
   "version": "2.7.6"
  }
 },
 "nbformat": 4,
 "nbformat_minor": 0
}
