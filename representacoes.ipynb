{
 "cells": [
  {
   "cell_type": "markdown",
   "source": [
    "# Representação\n",
    "\n",
    "Um modelo de machine learning não pode ver, ouvir ou sentir exemplos de entrada diretamente. Em vez disso, é necessário criar uma *representação* dos dados para fornecer ao modelo um ponto de observação útil para as principais qualidades dos dados. Ou seja, treinar o modelo, você precisa escolher o conjunto de atributos que melhor representa os dados."
   ],
   "metadata": {
    "collapsed": false
   }
  },
  {
   "cell_type": "markdown",
   "source": [
    "## Engenharia de atributos\n",
    "\n",
    "Modelos preditivos atuam identificando padrões em exemplos a partir de atributos disponíveis. Cada exemplo é composto de um ou mais atributos que, sozinhos ou em conjuntos, são preditivos para o atributo-alvo (rótulo) desejado. Em dados tabulares, atributos são tipicamente colunas na tabela, mas em outros domínios podem assumir outros formatos (como matrizes para imagens). A expressividade do modelo dita a complexidade dos padrões que podem ser extraídos, mas conjuntamente os atributos disponíveis podem habilitar ou facilitar a identificação dos padrões.\n",
    "\n",
    "A engenharia de atributos é um processo de transformação de dados brutos em atributos úteis para o processo de aprendizado de máquina. Tipicamente é um processo amplamente manual que se beneficia de conhecimento do domínio do problema. Pode ser visto como envolvendo pelo menos quatro abordagens: criar atributos, expandir atributos, transformar atributos e selecionar atributos."
   ],
   "metadata": {
    "collapsed": false
   }
  },
  {
   "cell_type": "markdown",
   "source": [
    "## Qualidades de bons atributos\n",
    "\n",
    "Bons valores de atributo precisam aparecer mais de cinco vezes em um conjunto de dados. Isso permite que um modelo aprenda como esse valor de atributo se relaciona com o rótulo. Ou seja, com muitos exemplos com o mesmo valor distinto, o modelo tem chance de ver o recurso em configurações diferentes e, por sua vez, determinar quando é um bom preditor para o rótulo."
   ],
   "metadata": {
    "collapsed": false
   }
  },
  {
   "cell_type": "code",
   "execution_count": null,
   "outputs": [],
   "source": [],
   "metadata": {
    "collapsed": false
   }
  }
 ],
 "metadata": {
  "kernelspec": {
   "display_name": "Python 3",
   "language": "python",
   "name": "python3"
  },
  "language_info": {
   "codemirror_mode": {
    "name": "ipython",
    "version": 2
   },
   "file_extension": ".py",
   "mimetype": "text/x-python",
   "name": "python",
   "nbconvert_exporter": "python",
   "pygments_lexer": "ipython2",
   "version": "2.7.6"
  }
 },
 "nbformat": 4,
 "nbformat_minor": 0
}
