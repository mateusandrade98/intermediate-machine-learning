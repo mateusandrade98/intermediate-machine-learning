{
 "cells": [
  {
   "cell_type": "markdown",
   "source": [
    "# Funções de perda\n",
    "\n",
    "Perda é a penalidade para uma previsão ruim. Ou seja, **perda** é um número que indica quão ruim foi a previsão do modelo em um único exemplo. Se a previsão do modelo for perfeita, a perda será zero. Caso contrário, a perda será maior."
   ],
   "metadata": {
    "collapsed": false
   }
  },
  {
   "cell_type": "markdown",
   "source": [
    "## Perda quadrada\n",
    "MSE = É o quadrado da diferença entre o rótulo e a previsão\n",
    "\n",
    "y = rótulo\n",
    "y' = previsto"
   ],
   "metadata": {
    "collapsed": false
   }
  },
  {
   "cell_type": "code",
   "execution_count": 29,
   "outputs": [],
   "source": [
    "import matplotlib.pyplot as plt\n",
    "import numpy as np"
   ],
   "metadata": {
    "collapsed": false
   }
  },
  {
   "cell_type": "code",
   "execution_count": 7,
   "outputs": [],
   "source": [
    "def mse(y: np.array, y_predict: np.array):\n",
    "    return np.square((y - y_predict)) / y.size"
   ],
   "metadata": {
    "collapsed": false
   }
  },
  {
   "cell_type": "code",
   "execution_count": 9,
   "outputs": [
    {
     "data": {
      "text/plain": "4.875"
     },
     "execution_count": 9,
     "metadata": {},
     "output_type": "execute_result"
    }
   ],
   "source": [
    "y = np.array([1, 5, 3, 4, 7, 2, 4, 4])\n",
    "y_predict = np.array([1, 3, 4, 2, 5, 3, 7, 8])\n",
    "\n",
    "mse(y, y_predict).sum()"
   ],
   "metadata": {
    "collapsed": false
   }
  },
  {
   "cell_type": "markdown",
   "source": [
    "## Gradiente descendente\n",
    "\n",
    "Gradiente descendente é um algoritmo de otimização genérico que consegue identificar ótimas soluções para um leque amplo de problemas. A ideia geral do gradiente descendente é ajustar iterativamente os parâmetros com o intuito de minimizar uma função de custo.\n",
    "\n",
    "\n",
    "![](images/gradient_descent.jpeg)"
   ],
   "metadata": {
    "collapsed": false
   }
  },
  {
   "cell_type": "markdown",
   "source": [
    "O modelo inicia com uma suposição aleatória *w1 é 0.* E esperá que o sistema diga qual foi a perda Depois, você tentará outra adivinha *w1 é 0,5.* e verá qual é a perda. O verdadeiro objetivo é tentar encontrar o melhor modelo possível da maneira mais eficiente possível.\n",
    "\n",
    "A figura a seguir sugere o processo iterativo de tentativa e erro que os algoritmos de machine learning usam para treinar um modelo.\n",
    "\n",
    "![](images/GradientDescentDiagram.png)"
   ],
   "metadata": {
    "collapsed": false
   }
  },
  {
   "cell_type": "code",
   "execution_count": 20,
   "outputs": [
    {
     "data": {
      "text/plain": "144.0"
     },
     "execution_count": 20,
     "metadata": {},
     "output_type": "execute_result"
    }
   ],
   "source": [
    "X = np.array([1, 3, 4, 2, 5, 3, 7, 8])\n",
    "\n",
    "def cal_cost(theta, X: np.array, y: np.array):\n",
    "    m = y.size\n",
    "\n",
    "    predictions = X * theta\n",
    "    cost = (0.5*m) * np.sum(predictions - y)\n",
    "    return cost\n",
    "\n",
    "cal_cost(2, X, y)"
   ],
   "metadata": {
    "collapsed": false
   }
  },
  {
   "cell_type": "code",
   "execution_count": 21,
   "outputs": [],
   "source": [
    "def gradient_descent(X: np.array, y: np.array, theta, learning_rate=0.01, iterations=100):\n",
    "    m = y.size\n",
    "    cost_history = np.zeros(iterations)\n",
    "    theta_history = np.zeros((iterations, 2))\n",
    "\n",
    "    for it in range(iterations):\n",
    "        prediction = X * theta\n",
    "        theta = theta - (1/m) * learning_rate * (X.T.dot((prediction - y)))\n",
    "        theta_history[it, :] = theta.T\n",
    "        cost_history[it] = cal_cost(theta, X, y)\n",
    "\n",
    "    return theta, cost_history, theta_history"
   ],
   "metadata": {
    "collapsed": false
   }
  },
  {
   "cell_type": "code",
   "execution_count": 24,
   "outputs": [],
   "source": [
    "theta, cost_history, theta_history = gradient_descent(X, y, 1, 0.01, 100)"
   ],
   "metadata": {
    "collapsed": false
   }
  },
  {
   "cell_type": "code",
   "execution_count": 36,
   "outputs": [
    {
     "data": {
      "text/plain": "[<matplotlib.lines.Line2D at 0x1b07de978e0>,\n <matplotlib.lines.Line2D at 0x1b07de97190>]"
     },
     "execution_count": 36,
     "metadata": {},
     "output_type": "execute_result"
    },
    {
     "data": {
      "text/plain": "<Figure size 640x480 with 1 Axes>",
      "image/png": "[encoded data removed]"
     },
     "metadata": {},
     "output_type": "display_data"
    }
   ],
   "source": [
    "fig, ax = plt.subplots()\n",
    "ax.set_ylabel('j(Theta)')\n",
    "ax.set_xlabel('Iterations')\n",
    "ax.plot(theta_history, 'o')"
   ],
   "metadata": {
    "collapsed": false
   }
  },
  {
   "cell_type": "markdown",
   "source": [
    "Conforme observado, o vetor de gradiente tem uma direção e uma magnitude. Os algoritmos de gradiente descendente multiplicam o gradiente por um escalar conhecimento como **taxa de aprendizado**, também conhecida como **tamanho da etapa**, para determinar o próximo ponto. Por exemplo, se a magnitude do gradiente for 2,5 e a taxa de aprendizado for 0,01, o algoritmo do gradiente descendente vai escolher o próximo ponto a 0,025 do ponto anterior.\n",
    "\n",
    "![](images/gradient_descent02.png)"
   ],
   "metadata": {
    "collapsed": false
   }
  },
  {
   "cell_type": "code",
   "execution_count": null,
   "outputs": [],
   "source": [],
   "metadata": {
    "collapsed": false
   }
  }
 ],
 "metadata": {
  "kernelspec": {
   "display_name": "Python 3",
   "language": "python",
   "name": "python3"
  },
  "language_info": {
   "codemirror_mode": {
    "name": "ipython",
    "version": 2
   },
   "file_extension": ".py",
   "mimetype": "text/x-python",
   "name": "python",
   "nbconvert_exporter": "python",
   "pygments_lexer": "ipython2",
   "version": "2.7.6"
  }
 },
 "nbformat": 4,
 "nbformat_minor": 0
}
