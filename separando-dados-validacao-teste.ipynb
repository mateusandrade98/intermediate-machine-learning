{
 "cells": [
  {
   "cell_type": "markdown",
   "source": [
    "# Conjuntos de validação e conjuntos de teste"
   ],
   "metadata": {
    "collapsed": false
   }
  },
  {
   "cell_type": "markdown",
   "source": [
    "## Conjuntos de treinamento e teste\n",
    "Um conjunto de teste é um conjunto de dados usado para avaliar o modelo desenvolvido com base em um conjunto de treinamento."
   ],
   "metadata": {
    "collapsed": false
   }
  },
  {
   "cell_type": "markdown",
   "source": [
    "## Conjunto de validação\n",
    "Particionar um conjunto de dados em um conjunto de treinamento e teste permite que você avalie se um determinado modelo generalizará bem para novos dados. No entanto, usar apenas duas partições pode ser insuficiente ao fazer muitas rodadas de ajuste de hiperparâmetros."
   ],
   "metadata": {
    "collapsed": false
   }
  },
  {
   "cell_type": "markdown",
   "source": [
    "A forma correta para a separação dos dados são 80% dados de treinamento, 10% teste e 10% validação.\n",
    "\n",
    "getcha clássica: **não treine em dados de teste**\n",
    "- Perda surpreendentemente baixa?\n",
    "- Antes de comemorar, verifique se você está treinando acidentalmente com os dados de teste\n",
    "\n",
    "![](images/conjuntodedados01.png)"
   ],
   "metadata": {
    "collapsed": false
   }
  },
  {
   "cell_type": "code",
   "execution_count": 17,
   "outputs": [],
   "source": [
    "import pandas as pd\n",
    "import numpy as np\n",
    "from sklearn.model_selection import train_test_split"
   ],
   "metadata": {
    "collapsed": false
   }
  },
  {
   "cell_type": "code",
   "execution_count": 3,
   "outputs": [],
   "source": [
    "train_df = pd.read_csv(\"https://download.mlcc.google.com/mledu-datasets/california_housing_train.csv\")\n",
    "test_df = pd.read_csv(\"https://download.mlcc.google.com/mledu-datasets/california_housing_test.csv\")"
   ],
   "metadata": {
    "collapsed": false
   }
  },
  {
   "cell_type": "code",
   "execution_count": 14,
   "outputs": [],
   "source": [
    "X_train, X_validation = train_test_split(train_df, test_size=0.2)"
   ],
   "metadata": {
    "collapsed": false
   }
  },
  {
   "cell_type": "code",
   "execution_count": 18,
   "outputs": [],
   "source": [
    "X_test = np.array(test_df)"
   ],
   "metadata": {
    "collapsed": false
   }
  },
  {
   "cell_type": "code",
   "execution_count": 20,
   "outputs": [
    {
     "name": "stdout",
     "output_type": "stream",
     "text": [
      "X_train: (13600, 9)\n",
      "X_test: (3000, 9)\n",
      "X_validation:(3400, 9)\n"
     ]
    }
   ],
   "source": [
    "print('X_train: {}\\nX_test: {}\\nX_validation:{}'.format(X_train.shape, X_test.shape, X_validation.shape))"
   ],
   "metadata": {
    "collapsed": false
   }
  },
  {
   "cell_type": "code",
   "execution_count": null,
   "outputs": [],
   "source": [],
   "metadata": {
    "collapsed": false
   }
  }
 ],
 "metadata": {
  "kernelspec": {
   "display_name": "Python 3",
   "language": "python",
   "name": "python3"
  },
  "language_info": {
   "codemirror_mode": {
    "name": "ipython",
    "version": 2
   },
   "file_extension": ".py",
   "mimetype": "text/x-python",
   "name": "python",
   "nbconvert_exporter": "python",
   "pygments_lexer": "ipython2",
   "version": "2.7.6"
  }
 },
 "nbformat": 4,
 "nbformat_minor": 0
}
